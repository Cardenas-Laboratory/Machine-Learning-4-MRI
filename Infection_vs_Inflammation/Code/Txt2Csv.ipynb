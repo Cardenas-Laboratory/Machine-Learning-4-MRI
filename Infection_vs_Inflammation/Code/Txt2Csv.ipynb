{
 "cells": [
  {
   "cell_type": "code",
   "execution_count": 1,
   "metadata": {
    "collapsed": true
   },
   "outputs": [],
   "source": [
    "# Import modules\n",
    "import numpy as np\n",
    "import pandas as pd"
   ]
  },
  {
   "cell_type": "code",
   "execution_count": 2,
   "metadata": {
    "collapsed": true
   },
   "outputs": [],
   "source": [
    "# Define file to be loaded file\n",
    "main_dir= \"../Study_02_MDA/\"\n",
    "file_name = \"Goldenberg_M5_S5_2016_12_27_T2.txt\"\n",
    "\n",
    "\n",
    "f1 = open(main_dir + file_name,'r')\n",
    "# Read all lines\n",
    "all_lines = f1.readlines()\n",
    "# Select from Fourht line to the end\n",
    "first_row_with_data = 3\n",
    "all_lines=all_lines[first_row_with_data:]\n",
    "# Calculate number of rows\n",
    "num_rows=len(all_lines)"
   ]
  },
  {
   "cell_type": "code",
   "execution_count": 3,
   "metadata": {
    "collapsed": false
   },
   "outputs": [],
   "source": [
    "# Use first line to estimate number of columns\n",
    "num_columns = len(all_lines[0].split()[1::3])"
   ]
  },
  {
   "cell_type": "code",
   "execution_count": 4,
   "metadata": {
    "collapsed": false
   },
   "outputs": [
    {
     "data": {
      "text/plain": [
       "(12, 4)"
      ]
     },
     "execution_count": 4,
     "metadata": {},
     "output_type": "execute_result"
    }
   ],
   "source": [
    "# Pre allocate Array\n",
    "Data_Array = np.zeros( (num_rows,num_columns) )\n",
    "Data_Array.shape"
   ]
  },
  {
   "cell_type": "code",
   "execution_count": 9,
   "metadata": {
    "collapsed": false
   },
   "outputs": [],
   "source": [
    "# Allocate Array\n",
    "for i in range(num_rows):\n",
    "# Each line is a string that can be split using spaces\n",
    "    Data_Array[i-first_row_with_data]=np.array(all_lines[i].split()[1::3])"
   ]
  },
  {
   "cell_type": "code",
   "execution_count": 8,
   "metadata": {
    "collapsed": true
   },
   "outputs": [],
   "source": [
    "# Create a DataFrame and save it as CSV\n",
    "# Define name\n",
    "csv_name=file_name[0:-4] + \".csv\"\n",
    "\n",
    "# Create Heading\n",
    "df=pd.DataFrame()\n",
    "for i in range(Data_Array.shape[1]):\n",
    "    df[\"ROI_\" + str(i+1)]=Data_Array[:,i]\n",
    "\n",
    "# Write File\n",
    "df.to_csv(csv_name)"
   ]
  },
  {
   "cell_type": "code",
   "execution_count": 10,
   "metadata": {
    "collapsed": false
   },
   "outputs": [
    {
     "name": "stdout",
     "output_type": "stream",
     "text": [
      "/Users/Julio/GitHub/Machine-Learning-4-MRI/Infection_vs_Inflammation/Code\r\n"
     ]
    }
   ],
   "source": [
    "!pwd"
   ]
  }
 ],
 "metadata": {
  "anaconda-cloud": {},
  "kernelspec": {
   "display_name": "Python [default]",
   "language": "python",
   "name": "python3"
  },
  "language_info": {
   "codemirror_mode": {
    "name": "ipython",
    "version": 3
   },
   "file_extension": ".py",
   "mimetype": "text/x-python",
   "name": "python",
   "nbconvert_exporter": "python",
   "pygments_lexer": "ipython3",
   "version": "3.5.2"
  }
 },
 "nbformat": 4,
 "nbformat_minor": 2
}
