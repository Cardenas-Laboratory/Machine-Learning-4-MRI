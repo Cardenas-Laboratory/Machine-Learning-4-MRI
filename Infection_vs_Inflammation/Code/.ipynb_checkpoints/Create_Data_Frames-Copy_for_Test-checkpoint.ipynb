{
 "cells": [
  {
   "cell_type": "code",
   "execution_count": 1,
   "metadata": {
    "collapsed": false
   },
   "outputs": [],
   "source": [
    "%matplotlib inline  \n",
    "import numpy as np\n",
    "import pandas as pd\n",
    "from pylab import *"
   ]
  },
  {
   "cell_type": "code",
   "execution_count": 2,
   "metadata": {
    "collapsed": true
   },
   "outputs": [],
   "source": [
    "f1 = open(\"test_file_T2.txt\",'r')\n",
    "# Read all lines\n",
    "all_lines = f1.readlines()\n",
    "f1.close()\n",
    "# Select from Fourht line to the end\n",
    "first_row_with_data = 3\n",
    "all_lines=all_lines[first_row_with_data:]\n",
    "    # Calculate number of rows\n",
    "num_rows=len(all_lines)\n",
    "f1.close()"
   ]
  },
  {
   "cell_type": "code",
   "execution_count": 3,
   "metadata": {
    "collapsed": false
   },
   "outputs": [],
   "source": [
    "num_cols = len( all_lines[0].split()[1::3] )"
   ]
  },
  {
   "cell_type": "code",
   "execution_count": 4,
   "metadata": {
    "collapsed": false
   },
   "outputs": [],
   "source": [
    "np_array=np.zeros( (num_rows,num_cols) )"
   ]
  },
  {
   "cell_type": "code",
   "execution_count": 5,
   "metadata": {
    "collapsed": false
   },
   "outputs": [
    {
     "data": {
      "text/plain": [
       "array([[ 403924.,  325107.,  308338.,  329587.],\n",
       "       [ 343599.,  252255.,  239604.,  261227.],\n",
       "       [ 249038.,  154254.,  147278.,  169753.],\n",
       "       [ 218125.,  117863.,  116016.,  137389.],\n",
       "       [ 163899.,   75056.,   78981.,   94194.],\n",
       "       [ 148122.,   58157.,   58724.,   81016.],\n",
       "       [ 120467.,   38547.,   43144.,   60438.],\n",
       "       [ 108482.,   33081.,   34666.,   53159.],\n",
       "       [  94071.,   22922.,   25344.,   40443.],\n",
       "       [  83941.,   19484.,   22794.,   34486.],\n",
       "       [  73680.,   15800.,   18995.,   31664.],\n",
       "       [  63178.,   14986.,   19109.,   28788.]])"
      ]
     },
     "execution_count": 5,
     "metadata": {},
     "output_type": "execute_result"
    }
   ],
   "source": [
    "for i in range(num_rows):\n",
    "    l=all_lines[i].split()[1::3]\n",
    "    np_array[i,:]=array(l)"
   ]
  },
  {
   "cell_type": "code",
   "execution_count": 17,
   "metadata": {
    "collapsed": false
   },
   "outputs": [],
   "source": [
    "# Define Column Names\n",
    "column_names=list()\n",
    "for i in range(num_cols):\n",
    "    column_names.append( \"ROI_\"+str(i+1))"
   ]
  },
  {
   "cell_type": "code",
   "execution_count": 19,
   "metadata": {
    "collapsed": false
   },
   "outputs": [],
   "source": [
    "df=pd.DataFrame(np_array,columns=column_names)"
   ]
  },
  {
   "cell_type": "code",
   "execution_count": 20,
   "metadata": {
    "collapsed": false
   },
   "outputs": [
    {
     "data": {
      "text/html": [
       "<div>\n",
       "<table border=\"1\" class=\"dataframe\">\n",
       "  <thead>\n",
       "    <tr style=\"text-align: right;\">\n",
       "      <th></th>\n",
       "      <th>ROI_1</th>\n",
       "      <th>ROI_2</th>\n",
       "      <th>ROI_3</th>\n",
       "      <th>ROI_4</th>\n",
       "    </tr>\n",
       "  </thead>\n",
       "  <tbody>\n",
       "    <tr>\n",
       "      <th>0</th>\n",
       "      <td>403924.0</td>\n",
       "      <td>325107.0</td>\n",
       "      <td>308338.0</td>\n",
       "      <td>329587.0</td>\n",
       "    </tr>\n",
       "    <tr>\n",
       "      <th>1</th>\n",
       "      <td>343599.0</td>\n",
       "      <td>252255.0</td>\n",
       "      <td>239604.0</td>\n",
       "      <td>261227.0</td>\n",
       "    </tr>\n",
       "    <tr>\n",
       "      <th>2</th>\n",
       "      <td>249038.0</td>\n",
       "      <td>154254.0</td>\n",
       "      <td>147278.0</td>\n",
       "      <td>169753.0</td>\n",
       "    </tr>\n",
       "    <tr>\n",
       "      <th>3</th>\n",
       "      <td>218125.0</td>\n",
       "      <td>117863.0</td>\n",
       "      <td>116016.0</td>\n",
       "      <td>137389.0</td>\n",
       "    </tr>\n",
       "    <tr>\n",
       "      <th>4</th>\n",
       "      <td>163899.0</td>\n",
       "      <td>75056.0</td>\n",
       "      <td>78981.0</td>\n",
       "      <td>94194.0</td>\n",
       "    </tr>\n",
       "    <tr>\n",
       "      <th>5</th>\n",
       "      <td>148122.0</td>\n",
       "      <td>58157.0</td>\n",
       "      <td>58724.0</td>\n",
       "      <td>81016.0</td>\n",
       "    </tr>\n",
       "    <tr>\n",
       "      <th>6</th>\n",
       "      <td>120467.0</td>\n",
       "      <td>38547.0</td>\n",
       "      <td>43144.0</td>\n",
       "      <td>60438.0</td>\n",
       "    </tr>\n",
       "    <tr>\n",
       "      <th>7</th>\n",
       "      <td>108482.0</td>\n",
       "      <td>33081.0</td>\n",
       "      <td>34666.0</td>\n",
       "      <td>53159.0</td>\n",
       "    </tr>\n",
       "    <tr>\n",
       "      <th>8</th>\n",
       "      <td>94071.0</td>\n",
       "      <td>22922.0</td>\n",
       "      <td>25344.0</td>\n",
       "      <td>40443.0</td>\n",
       "    </tr>\n",
       "    <tr>\n",
       "      <th>9</th>\n",
       "      <td>83941.0</td>\n",
       "      <td>19484.0</td>\n",
       "      <td>22794.0</td>\n",
       "      <td>34486.0</td>\n",
       "    </tr>\n",
       "    <tr>\n",
       "      <th>10</th>\n",
       "      <td>73680.0</td>\n",
       "      <td>15800.0</td>\n",
       "      <td>18995.0</td>\n",
       "      <td>31664.0</td>\n",
       "    </tr>\n",
       "    <tr>\n",
       "      <th>11</th>\n",
       "      <td>63178.0</td>\n",
       "      <td>14986.0</td>\n",
       "      <td>19109.0</td>\n",
       "      <td>28788.0</td>\n",
       "    </tr>\n",
       "  </tbody>\n",
       "</table>\n",
       "</div>"
      ],
      "text/plain": [
       "       ROI_1     ROI_2     ROI_3     ROI_4\n",
       "0   403924.0  325107.0  308338.0  329587.0\n",
       "1   343599.0  252255.0  239604.0  261227.0\n",
       "2   249038.0  154254.0  147278.0  169753.0\n",
       "3   218125.0  117863.0  116016.0  137389.0\n",
       "4   163899.0   75056.0   78981.0   94194.0\n",
       "5   148122.0   58157.0   58724.0   81016.0\n",
       "6   120467.0   38547.0   43144.0   60438.0\n",
       "7   108482.0   33081.0   34666.0   53159.0\n",
       "8    94071.0   22922.0   25344.0   40443.0\n",
       "9    83941.0   19484.0   22794.0   34486.0\n",
       "10   73680.0   15800.0   18995.0   31664.0\n",
       "11   63178.0   14986.0   19109.0   28788.0"
      ]
     },
     "execution_count": 20,
     "metadata": {},
     "output_type": "execute_result"
    }
   ],
   "source": [
    "df"
   ]
  },
  {
   "cell_type": "code",
   "execution_count": null,
   "metadata": {
    "collapsed": true
   },
   "outputs": [],
   "source": []
  }
 ],
 "metadata": {
  "anaconda-cloud": {},
  "kernelspec": {
   "display_name": "Python [conda root]",
   "language": "python",
   "name": "conda-root-py"
  },
  "language_info": {
   "codemirror_mode": {
    "name": "ipython",
    "version": 3
   },
   "file_extension": ".py",
   "mimetype": "text/x-python",
   "name": "python",
   "nbconvert_exporter": "python",
   "pygments_lexer": "ipython3",
   "version": "3.5.2"
  }
 },
 "nbformat": 4,
 "nbformat_minor": 2
}
