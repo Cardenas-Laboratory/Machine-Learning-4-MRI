{
 "cells": [
  {
   "cell_type": "code",
   "execution_count": 1,
   "metadata": {
    "collapsed": false
   },
   "outputs": [],
   "source": [
    "%matplotlib inline  \n",
    "import numpy as np\n",
    "import pandas as pd\n",
    "from pylab import *\n",
    "import os\n",
    "from Txt2DataFrame import *"
   ]
  },
  {
   "cell_type": "code",
   "execution_count": 2,
   "metadata": {
    "collapsed": true
   },
   "outputs": [],
   "source": [
    "main_dir= \"../Study_03_CBA/\""
   ]
  },
  {
   "cell_type": "code",
   "execution_count": 3,
   "metadata": {
    "collapsed": true
   },
   "outputs": [],
   "source": [
    "TE=np.linspace(10,120,12)"
   ]
  },
  {
   "cell_type": "code",
   "execution_count": 4,
   "metadata": {
    "collapsed": false
   },
   "outputs": [],
   "source": [
    "# Create List of T2 MSME data\n",
    "file_name=list()\n",
    "for file in os.listdir(main_dir):\n",
    "    if file.endswith(\"T2.txt\"):\n",
    "        file_name.append(file)"
   ]
  },
  {
   "cell_type": "code",
   "execution_count": 5,
   "metadata": {
    "collapsed": false
   },
   "outputs": [],
   "source": [
    "# Process each T2 file\n",
    "for file_name in file_name:\n",
    "    df=Txt2DataFrame(main_dir,file_name,12)"
   ]
  },
  {
   "cell_type": "code",
   "execution_count": null,
   "metadata": {
    "collapsed": false
   },
   "outputs": [],
   "source": [
    "my_list_T2[0]"
   ]
  },
  {
   "cell_type": "code",
   "execution_count": null,
   "metadata": {
    "collapsed": true
   },
   "outputs": [],
   "source": [
    "     \n",
    "        data_frame[\"Mouse\"]=file_name.split(\"_\")[1][1]\n",
    "        data_frame[\"Slice\"]=file_name.split(\"_\")[2][1]\n",
    "        data_frame[\"Year\"]=file_name.split(\"_\")[3]\n",
    "        data_frame[\"Day\"]=float(file_name.split(\"_\")[4])\n",
    "        data_frame[\"Month\"]=float(file_name.split(\"_\")[5])\n",
    "        my_list.append(data_frame)"
   ]
  },
  {
   "cell_type": "code",
   "execution_count": null,
   "metadata": {
    "collapsed": false
   },
   "outputs": [],
   "source": [
    "# Convert .txt to frame\n",
    "file_name = \"Goldenberg_M5_S5_2017_1_6_T2.txt\"\n",
    "data_frame=Txt2DataFrame(main_dir,file_name)"
   ]
  },
  {
   "cell_type": "code",
   "execution_count": null,
   "metadata": {
    "collapsed": false
   },
   "outputs": [],
   "source": [
    "# Echo Time\n",
    "data_frame[\"EchoTimeMsec\"]=TE\n",
    "# Allocate new columns based on file heading\n",
    "data_frame[\"Mouse\"]=file_name.split(\"_\")[1][1]\n",
    "data_frame[\"Slice\"]=file_name.split(\"_\")[2][1]\n",
    "data_frame[\"Year\"]=file_name.split(\"_\")[3]\n",
    "data_frame[\"Month\"]=float(file_name.split(\"_\")[4])\n",
    "data_frame[\"Day\"]=float(file_name.split(\"_\")[5])\n",
    "\n",
    "data_frame.head(2)"
   ]
  },
  {
   "cell_type": "code",
   "execution_count": null,
   "metadata": {
    "collapsed": true
   },
   "outputs": [],
   "source": [
    "data_frame.to_csv(\"Hola.csv\")"
   ]
  },
  {
   "cell_type": "code",
   "execution_count": null,
   "metadata": {
    "collapsed": false
   },
   "outputs": [],
   "source": [
    "df1=data_frame\n"
   ]
  },
  {
   "cell_type": "code",
   "execution_count": null,
   "metadata": {
    "collapsed": false
   },
   "outputs": [],
   "source": [
    "plot(TE,df1.ROI_1.values)"
   ]
  },
  {
   "cell_type": "code",
   "execution_count": null,
   "metadata": {
    "collapsed": false
   },
   "outputs": [],
   "source": [
    "file_name = \"Goldenberg_M3_S2_2017_1_4_T2.txt\"\n",
    "data_frame=Txt2Csv(main_dir,file_name)\n",
    "# Echo Time\n",
    "data_frame[\"EchoTimeMsec\"]=TE\n",
    "# Allocate new columns based on file heading\n",
    "data_frame[\"Mouse\"]=file_name.split(\"_\")[1][1]\n",
    "data_frame[\"Slice\"]=file_name.split(\"_\")[2][1]\n",
    "data_frame[\"Year\"]=file_name.split(\"_\")[3]\n",
    "data_frame[\"Month\"]=float(file_name.split(\"_\")[4])\n",
    "data_frame[\"Day\"]=float(file_name.split(\"_\")[5])\n",
    "\n",
    "data_frame.head(2)"
   ]
  },
  {
   "cell_type": "code",
   "execution_count": null,
   "metadata": {
    "collapsed": true
   },
   "outputs": [],
   "source": [
    "df2=data_frame"
   ]
  },
  {
   "cell_type": "code",
   "execution_count": null,
   "metadata": {
    "collapsed": true
   },
   "outputs": [],
   "source": [
    "DF=pd.concat([df1,df2], axis=0, ignore_index=False)"
   ]
  },
  {
   "cell_type": "code",
   "execution_count": null,
   "metadata": {
    "collapsed": false
   },
   "outputs": [],
   "source": [
    "DF.head(2)"
   ]
  },
  {
   "cell_type": "code",
   "execution_count": null,
   "metadata": {
    "collapsed": false
   },
   "outputs": [],
   "source": [
    "DF.tail(2)"
   ]
  },
  {
   "cell_type": "code",
   "execution_count": null,
   "metadata": {
    "collapsed": false
   },
   "outputs": [],
   "source": [
    "s=DF.ROI_1.values\n",
    "plot(TE,np.reshape(s,(12,2)))"
   ]
  },
  {
   "cell_type": "code",
   "execution_count": null,
   "metadata": {
    "collapsed": false
   },
   "outputs": [],
   "source": [
    "DF.transpose()"
   ]
  },
  {
   "cell_type": "code",
   "execution_count": null,
   "metadata": {
    "collapsed": true
   },
   "outputs": [],
   "source": []
  }
 ],
 "metadata": {
  "anaconda-cloud": {},
  "kernelspec": {
   "display_name": "Python [conda root]",
   "language": "python",
   "name": "conda-root-py"
  },
  "language_info": {
   "codemirror_mode": {
    "name": "ipython",
    "version": 3
   },
   "file_extension": ".py",
   "mimetype": "text/x-python",
   "name": "python",
   "nbconvert_exporter": "python",
   "pygments_lexer": "ipython3",
   "version": "3.5.2"
  }
 },
 "nbformat": 4,
 "nbformat_minor": 2
}
