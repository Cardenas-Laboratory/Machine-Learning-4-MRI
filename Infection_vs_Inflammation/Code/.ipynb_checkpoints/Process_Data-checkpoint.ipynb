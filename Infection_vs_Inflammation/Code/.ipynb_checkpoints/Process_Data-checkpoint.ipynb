{
 "cells": [
  {
   "cell_type": "markdown",
   "metadata": {},
   "source": [
    "Processinng Data\n",
    "==============="
   ]
  },
  {
   "cell_type": "code",
   "execution_count": 10,
   "metadata": {
    "collapsed": false
   },
   "outputs": [
    {
     "name": "stdout",
     "output_type": "stream",
     "text": [
      "-rw-r--r--@ 1 Julio  staff  3003 Jan 15 10:58 ../Study_03_CBA/Goldenberg_M1_S1_2017_1_2_T2.txt\r\n",
      "-rw-r--r--@ 1 Julio  staff  3003 Jan 15 10:58 ../Study_03_CBA/Goldenberg_M2_S1_2017_1_2_T2.txt\r\n",
      "-rw-r--r--@ 1 Julio  staff  3003 Jan 15 10:58 ../Study_03_CBA/Goldenberg_M3_S1_2017_1_2_T2.txt\r\n"
     ]
    }
   ],
   "source": [
    "# get file names from unix shell (example)\n",
    "!ls -l ../Study_03_CBA/*S1_2017_1_2_T2.txt"
   ]
  },
  {
   "cell_type": "code",
   "execution_count": null,
   "metadata": {
    "collapsed": true
   },
   "outputs": [],
   "source": []
  }
 ],
 "metadata": {
  "anaconda-cloud": {},
  "kernelspec": {
   "display_name": "Python [default]",
   "language": "python",
   "name": "python3"
  },
  "language_info": {
   "codemirror_mode": {
    "name": "ipython",
    "version": 3
   },
   "file_extension": ".py",
   "mimetype": "text/x-python",
   "name": "python",
   "nbconvert_exporter": "python",
   "pygments_lexer": "ipython3",
   "version": "3.5.2"
  }
 },
 "nbformat": 4,
 "nbformat_minor": 2
}
